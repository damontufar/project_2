{
 "cells": [
  {
   "cell_type": "markdown",
   "metadata": {},
   "source": [
    "JUPYTER HEALTH PAGE PROJECT 2"
   ]
  },
  {
   "cell_type": "code",
   "execution_count": 69,
   "metadata": {},
   "outputs": [],
   "source": [
    "#importing dependencies\n",
    "from splinter import Browser\n",
    "from bs4 import BeautifulSoup\n",
    "import time\n",
    "from webdriver_manager.chrome import ChromeDriverManager\n",
    "import pandas as pd"
   ]
  },
  {
   "cell_type": "code",
   "execution_count": 70,
   "metadata": {},
   "outputs": [],
   "source": [
    "#set up splinter\n",
    "executable_path = {\"executable_path\": \"chromedriver.exe\"}\n",
    "browser = Browser(\"chrome\", **executable_path, headless=False)\n"
   ]
  },
  {
   "cell_type": "code",
   "execution_count": 71,
   "metadata": {},
   "outputs": [],
   "source": [
    "#visit \n",
    "url = \"https://www.news-medical.net/condition/Metabolic-Syndrome\"\n",
    "browser.visit(url)\n",
    "time.sleep(1)"
   ]
  },
  {
   "cell_type": "code",
   "execution_count": 72,
   "metadata": {},
   "outputs": [],
   "source": [
    "#scrape page into soup\n",
    "html = browser.html\n",
    "soup = BeautifulSoup(html, \"html.parser\")"
   ]
  },
  {
   "cell_type": "markdown",
   "metadata": {},
   "source": [
    "Latest Metabolic Syndrome News and Research"
   ]
  },
  {
   "cell_type": "code",
   "execution_count": 80,
   "metadata": {},
   "outputs": [],
   "source": [
    "# Retrieve all elements that contain news\n",
    "latest_news = soup.find(\"div\", class_=\"posts publishables-list-wrap\")\n"
   ]
  },
  {
   "cell_type": "code",
   "execution_count": 81,
   "metadata": {},
   "outputs": [],
   "source": [
    "\n",
    "#latest_news_image1 = latest_news.find_all(\"img\")[2][\"src\"]\n",
    "\n",
    "#print(latest_news_image1)\n",
    "\n",
    "#latest_news_link1 = \"https://www.news-medical.net\" + latest_link1\n",
    "#print(latest_news_link1)\n",
    "\n"
   ]
  },
  {
   "cell_type": "code",
   "execution_count": 95,
   "metadata": {},
   "outputs": [
    {
     "name": "stdout",
     "output_type": "stream",
     "text": [
      "Inflammasomes could play an important role in the development of obesity-related colon cancer\n",
      "New research presented at this year's European Congress on Obesity (held online, 10-13 May) finds evidence that structures called inflammasomes (a part of the innate immune system that helps to regulate inflammation) could play an important role in the development of obesity-associated colon cancer.\n",
      "https://www.news-medical.net/news/20210510/Inflammasomes-could-play-an-important-role-in-the-development-of-obesity-related-colon-cancer.aspx\n",
      "                            10 May 2021                        \n",
      "https://d2jx2rerrg6sh3.cloudfront.net/image-handler/picture/2016/3/Colon_cancer_-_Sebastian_Kaulitzki_-_590_d1c4277f8af34d7ca849accdb5cdf170-150x125.jpg\n"
     ]
    }
   ],
   "source": [
    "#get the latest news title from the page News 1\n",
    "latest_news_title1 = latest_news.find_all(\"a\")[1].text\n",
    "\n",
    "#get the paragraph text of latest news 1\n",
    "news_para1 = latest_news.find_all(\"p\")[0].text\n",
    "\n",
    "#get the url link of latest news 1 \n",
    "latest_link1 = latest_news.find_all(\"a\", href=True)[0][\"href\"]\n",
    "latest_news_link1 = \"https://www.news-medical.net\" + latest_link1\n",
    "\n",
    "#get the date\n",
    "latest_Date1 = latest_news.find_all(\"span\", class_=\"article-meta-date\")[0].text\n",
    "latest_news_Date1 = latest_Date1.replace('\\n', '')\n",
    "\n",
    "#get the image\n",
    "latest_news_image1 = latest_news.find_all(\"img\")[0][\"src\"]\n",
    "\n",
    "#display news\n",
    "print(latest_news_title1)\n",
    "print(news_para1)\n",
    "print(latest_news_link1)\n",
    "print(latest_news_Date1)\n",
    "print(latest_news_image1)"
   ]
  },
  {
   "cell_type": "code",
   "execution_count": 96,
   "metadata": {},
   "outputs": [
    {
     "name": "stdout",
     "output_type": "stream",
     "text": [
      "Prenatal POP exposure may increase the risk of metabolic disorders in adolescence\n",
      "Exposure before birth to persistent organic pollutants (POPs)-- organochlorine pesticides, industrial chemicals, etc.--may increase the risk in adolescence of metabolic disorders, such as obesity and high blood pressure.\n",
      "https://www.news-medical.net/news/20210429/Prenatal-POP-exposure-may-increase-the-risk-of-metabolic-disorders-in-adolescence.aspx\n",
      "                            29 Apr 2021                        \n",
      "https://d2jx2rerrg6sh3.cloudfront.net/image-handler/picture/2019/8/Overweight_stomach_-_Image_-_Suzanne_Tucker_M1_d8b2226957f54e3f844032001d4c8e50-150x125.jpg\n"
     ]
    }
   ],
   "source": [
    "#get the latest news title from the page News 2\n",
    "latest_news_title2 = latest_news.find_all(\"a\")[3].text\n",
    "\n",
    "#get the paragraph text of latest news 2\n",
    "news_para2 = latest_news.find_all(\"p\")[1].text\n",
    "\n",
    "#get the url link of latest news 2 \n",
    "latest_link2 = latest_news.find_all(\"a\", href=True)[2][\"href\"]\n",
    "latest_news_link2 = \"https://www.news-medical.net\" + latest_link2\n",
    "\n",
    "#get the date\n",
    "latest_Date2 = latest_news.find_all(\"span\", class_=\"article-meta-date\")[1].text\n",
    "latest_news_Date2 = latest_Date2.replace('\\n', '')\n",
    "\n",
    "#get the image\n",
    "latest_news_image2 = latest_news.find_all(\"img\")[1][\"src\"]\n",
    "\n",
    "#display news\n",
    "print(latest_news_title2)\n",
    "print(news_para2)\n",
    "print(latest_news_link2)\n",
    "print(latest_news_Date2)\n",
    "print(latest_news_image2)"
   ]
  },
  {
   "cell_type": "code",
   "execution_count": 101,
   "metadata": {},
   "outputs": [
    {
     "name": "stdout",
     "output_type": "stream",
     "text": [
      "Processed diets may promote diseases characterized by low-grade infection and inflammation\n",
      "Processed diets, which are low in fiber, may initially reduce the incidence of foodborne infectious diseases such as E. coli infections, but might also increase the incidence of diseases characterized by low-grade chronic infection and inflammation such as diabetes, according to researchers in the Institute for Biomedical Sciences at Georgia State University.\n",
      "https://www.news-medical.net/news/20210428/Processed-diets-may-promote-diseases-characterized-by-low-grade-infection-and-inflammation.aspx\n",
      "                            28 Apr 2021                        \n",
      "https://d2jx2rerrg6sh3.cloudfront.net/image-handler/picture/2017/8/close_up_of_asian_man-Fahkamram_bffc80643d624ca2afe8b6a76bb896e0-150x125.jpg\n"
     ]
    }
   ],
   "source": [
    "#get the latest news title from the page News 3\n",
    "latest_news_title3 = latest_news.find_all(\"a\")[5].text\n",
    "\n",
    "#get the paragraph text of latest news 3\n",
    "news_para3 = latest_news.find_all(\"p\")[2].text\n",
    "\n",
    "#get the url link of latest news 3 \n",
    "latest_link3 = latest_news.find_all(\"a\", href=True)[4][\"href\"]\n",
    "latest_news_link3 = \"https://www.news-medical.net\" + latest_link3\n",
    "\n",
    "#get the date\n",
    "latest_Date3 = latest_news.find_all(\"span\", class_=\"article-meta-date\")[2].text\n",
    "latest_news_Date3 = latest_Date3.replace('\\n', '')\n",
    "\n",
    "#get the image\n",
    "latest_news_image3 = latest_news.find_all(\"img\")[2][\"src\"]\n",
    "\n",
    "#display news\n",
    "print(latest_news_title3)\n",
    "print(news_para3)\n",
    "print(latest_news_link3)\n",
    "print(latest_news_Date3)\n",
    "print(latest_news_image3)"
   ]
  },
  {
   "cell_type": "code",
   "execution_count": 102,
   "metadata": {},
   "outputs": [
    {
     "name": "stdout",
     "output_type": "stream",
     "text": [
      "Study opens door to new approaches for preventing the development of metabolic diseases\n",
      "The protein Asc-1 regulates whether fat-burning beige or fat-storing white adipocytes are formed, which can have an impact on the development of metabolic diseases.\n",
      "https://www.news-medical.net/news/20210331/Study-opens-door-to-new-approaches-for-preventing-the-development-of-metabolic-diseases.aspx\n",
      "                            31 Mar 2021                        \n",
      "https://d2jx2rerrg6sh3.cloudfront.net/image-handler/picture/2017/3/Obesity-Jakub_Cejpek_ead0fb8492f0437f96e9fd842630990c-150x125.jpg\n"
     ]
    }
   ],
   "source": [
    "#get the latest news title from the page News 4\n",
    "latest_news_title4 = latest_news.find_all(\"a\")[7].text\n",
    "\n",
    "#get the paragraph text of latest news 4\n",
    "news_para4 = latest_news.find_all(\"p\")[3].text\n",
    "\n",
    "#get the url link of latest news 4 \n",
    "latest_link4 = latest_news.find_all(\"a\", href=True)[6][\"href\"]\n",
    "latest_news_link4 = \"https://www.news-medical.net\" + latest_link4\n",
    "\n",
    "#get the date\n",
    "latest_Date4 = latest_news.find_all(\"span\", class_=\"article-meta-date\")[3].text\n",
    "latest_news_Date4 = latest_Date4.replace('\\n', '')\n",
    "\n",
    "#get the image\n",
    "latest_news_image4 = latest_news.find_all(\"img\")[3][\"src\"]\n",
    "\n",
    "#display news\n",
    "print(latest_news_title4)\n",
    "print(news_para4)\n",
    "print(latest_news_link4)\n",
    "print(latest_news_Date4)\n",
    "print(latest_news_image4)"
   ]
  },
  {
   "cell_type": "code",
   "execution_count": 110,
   "metadata": {},
   "outputs": [
    {
     "name": "stdout",
     "output_type": "stream",
     "text": [
      "Lupus patients with lower vitamin D levels more likely to have metabolic syndrome, insulin resistance\n",
      "Patients with lupus are more likely to have metabolic syndrome and insulin resistance - both factors linked to heart disease - if they have lower vitamin D levels, a new study reveals.\n",
      "https://www.news-medical.net/news/20210326/Lupus-patients-with-lower-vitamin-D-levels-more-likely-to-have-metabolic-syndrome-insulin-resistance.aspx\n",
      "                            26 Mar 2021                        \n",
      "https://d2jx2rerrg6sh3.cloudfront.net/image-handler/picture/2019/9/Vitamin_D_keeps_you_healthy_while_lack_of_sun._Hand_holding_yellow_soft_shell_fi_-_FotoHelin_M1_4f024c6d34a3442eb2e34dca2cbfff25-150x125.jpg\n"
     ]
    },
    {
     "data": {
      "text/plain": [
       "str"
      ]
     },
     "execution_count": 110,
     "metadata": {},
     "output_type": "execute_result"
    }
   ],
   "source": [
    "#get the latest news title from the page News 5\n",
    "latest_news_title5 = latest_news.find_all(\"a\")[9].text\n",
    "\n",
    "#get the paragraph text of latest news 5\n",
    "news_para5 = latest_news.find_all(\"p\")[4].text\n",
    "\n",
    "#get the url link of latest news 5 \n",
    "latest_link5 = latest_news.find_all(\"a\", href=True)[8][\"href\"]\n",
    "latest_news_link5 = \"https://www.news-medical.net\" + latest_link5\n",
    "\n",
    "#get the date\n",
    "latest_Date5 = latest_news.find_all(\"span\", class_=\"article-meta-date\")[4].text\n",
    "latest_news_Date5 = latest_Date5.replace('\\n', '')\n",
    "\n",
    "#get the image\n",
    "latest_news_image5 = latest_news.find_all(\"img\")[4][\"src\"]\n",
    "\n",
    "#display news\n",
    "print(latest_news_title5)\n",
    "print(news_para5)\n",
    "print(latest_news_link5)\n",
    "print(latest_news_Date5)\n",
    "print(latest_news_image5)"
   ]
  },
  {
   "cell_type": "code",
   "execution_count": 104,
   "metadata": {},
   "outputs": [
    {
     "data": {
      "text/plain": [
       "[{'title': 'Inflammasomes could play an important role in the development of obesity-related colon cancer',\n",
       "  'text': \"New research presented at this year's European Congress on Obesity (held online, 10-13 May) finds evidence that structures called inflammasomes (a part of the innate immune system that helps to regulate inflammation) could play an important role in the development of obesity-associated colon cancer.\",\n",
       "  'news_link': 'https://www.news-medical.net/news/20210510/Inflammasomes-could-play-an-important-role-in-the-development-of-obesity-related-colon-cancer.aspx',\n",
       "  'date': '                            10 May 2021                        ',\n",
       "  'img_url': 'https://d2jx2rerrg6sh3.cloudfront.net/image-handler/picture/2016/3/Colon_cancer_-_Sebastian_Kaulitzki_-_590_d1c4277f8af34d7ca849accdb5cdf170-150x125.jpg'},\n",
       " {'title': 'Prenatal POP exposure may increase the risk of metabolic disorders in adolescence',\n",
       "  'text': 'Exposure before birth to persistent organic pollutants (POPs)-- organochlorine pesticides, industrial chemicals, etc.--may increase the risk in adolescence of metabolic disorders, such as obesity and high blood pressure.',\n",
       "  'news_link': 'https://www.news-medical.net/news/20210429/Prenatal-POP-exposure-may-increase-the-risk-of-metabolic-disorders-in-adolescence.aspx',\n",
       "  'date': '                            29 Apr 2021                        ',\n",
       "  'img_url': 'https://d2jx2rerrg6sh3.cloudfront.net/image-handler/picture/2019/8/Overweight_stomach_-_Image_-_Suzanne_Tucker_M1_d8b2226957f54e3f844032001d4c8e50-150x125.jpg'},\n",
       " {'title': 'Processed diets may promote diseases characterized by low-grade infection and inflammation',\n",
       "  'text': 'Processed diets, which are low in fiber, may initially reduce the incidence of foodborne infectious diseases such as E. coli infections, but might also increase the incidence of diseases characterized by low-grade chronic infection and inflammation such as diabetes, according to researchers in the Institute for Biomedical Sciences at Georgia State University.',\n",
       "  'news_link': 'https://www.news-medical.net/news/20210428/Processed-diets-may-promote-diseases-characterized-by-low-grade-infection-and-inflammation.aspx',\n",
       "  'date': '                            28 Apr 2021                        ',\n",
       "  'img_url': 'https://d2jx2rerrg6sh3.cloudfront.net/image-handler/picture/2017/8/close_up_of_asian_man-Fahkamram_bffc80643d624ca2afe8b6a76bb896e0-150x125.jpg'},\n",
       " {'title': 'Study opens door to new approaches for preventing the development of metabolic diseases',\n",
       "  'text': 'The protein Asc-1 regulates whether fat-burning beige or fat-storing white adipocytes are formed, which can have an impact on the development of metabolic diseases.',\n",
       "  'news_link': 'https://www.news-medical.net/news/20210331/Study-opens-door-to-new-approaches-for-preventing-the-development-of-metabolic-diseases.aspx',\n",
       "  'date': '                            31 Mar 2021                        ',\n",
       "  'img_url': 'https://d2jx2rerrg6sh3.cloudfront.net/image-handler/picture/2017/3/Obesity-Jakub_Cejpek_ead0fb8492f0437f96e9fd842630990c-150x125.jpg'},\n",
       " {'title': 'Lupus patients with lower vitamin D levels more likely to have metabolic syndrome, insulin resistance',\n",
       "  'text': 'Patients with lupus are more likely to have metabolic syndrome and insulin resistance - both factors linked to heart disease - if they have lower vitamin D levels, a new study reveals.',\n",
       "  'news_link': 'https://www.news-medical.net/news/20210326/Lupus-patients-with-lower-vitamin-D-levels-more-likely-to-have-metabolic-syndrome-insulin-resistance.aspx',\n",
       "  'date': '                            26 Mar 2021                        ',\n",
       "  'img_url': 'https://d2jx2rerrg6sh3.cloudfront.net/image-handler/picture/2019/9/Vitamin_D_keeps_you_healthy_while_lack_of_sun._Hand_holding_yellow_soft_shell_fi_-_FotoHelin_M1_4f024c6d34a3442eb2e34dca2cbfff25-150x125.jpg'}]"
      ]
     },
     "execution_count": 104,
     "metadata": {},
     "output_type": "execute_result"
    }
   ],
   "source": [
    "#creating the dictionary with title, text, link, date and image urls\n",
    "health = [\n",
    "    {\"title\": latest_news_title1, \"text\": news_para1, \"news_link\": latest_news_link1, \"date\": latest_news_Date1, \"img_url\": latest_news_image1},\n",
    "    {\"title\": latest_news_title2, \"text\": news_para2, \"news_link\": latest_news_link2, \"date\": latest_news_Date2, \"img_url\": latest_news_image2},\n",
    "    {\"title\": latest_news_title3, \"text\": news_para3, \"news_link\": latest_news_link3, \"date\": latest_news_Date3, \"img_url\": latest_news_image3},\n",
    "    {\"title\": latest_news_title4, \"text\": news_para4, \"news_link\": latest_news_link4, \"date\": latest_news_Date4, \"img_url\": latest_news_image4},\n",
    "    {\"title\": latest_news_title5, \"text\": news_para5, \"news_link\": latest_news_link5, \"date\": latest_news_Date5, \"img_url\": latest_news_image5},\n",
    "]\n",
    "\n",
    "health"
   ]
  },
  {
   "cell_type": "code",
   "execution_count": 105,
   "metadata": {},
   "outputs": [],
   "source": [
    "#browser.quit()"
   ]
  },
  {
   "cell_type": "code",
   "execution_count": null,
   "metadata": {},
   "outputs": [],
   "source": []
  }
 ],
 "metadata": {
  "kernelspec": {
   "display_name": "Python [conda env:pythondata] *",
   "language": "python",
   "name": "conda-env-pythondata-py"
  },
  "language_info": {
   "codemirror_mode": {
    "name": "ipython",
    "version": 3
   },
   "file_extension": ".py",
   "mimetype": "text/x-python",
   "name": "python",
   "nbconvert_exporter": "python",
   "pygments_lexer": "ipython3",
   "version": "3.6.10"
  }
 },
 "nbformat": 4,
 "nbformat_minor": 4
}
