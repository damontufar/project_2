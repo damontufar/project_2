{
 "cells": [
  {
   "cell_type": "code",
   "execution_count": 1,
   "metadata": {},
   "outputs": [
    {
     "name": "stderr",
     "output_type": "stream",
     "text": [
      "C:\\Users\\najez\\Anaconda3\\envs\\pythonData\\lib\\site-packages\\IPython\\core\\interactiveshell.py:3072: DtypeWarning: Columns (34) have mixed types.Specify dtype option on import or set low_memory=False.\n",
      "  interactivity=interactivity, compiler=compiler, result=result)\n"
     ]
    }
   ],
   "source": [
    "# Import dependencies needed\n",
    "import pandas as pd\n",
    "import numpy as np\n",
    "\n",
    "# File to Load \n",
    "file_path = \"static/data/denue_inegi_62_.csv\"\n",
    "\n",
    "# Read Purchasing File and store into Pandas data frame\n",
    "nutricionist = pd.read_csv(file_path, encoding='ISO-8859-1')"
   ]
  },
  {
   "cell_type": "code",
   "execution_count": 2,
   "metadata": {},
   "outputs": [
    {
     "data": {
      "text/plain": [
       "Index(['id', 'nom_estab', 'raz_social', 'codigo_act', 'nombre_act', 'per_ocu',\n",
       "       'tipo_vial', 'nom_vial', 'tipo_v_e_1', 'nom_v_e_1', 'tipo_v_e_2',\n",
       "       'nom_v_e_2', 'tipo_v_e_3', 'nom_v_e_3', 'numero_ext', 'letra_ext',\n",
       "       'edificio', 'edificio_e', 'numero_int', 'letra_int', 'tipo_asent',\n",
       "       'nomb_asent', 'tipoCenCom', 'nom_CenCom', 'num_local', 'cod_postal',\n",
       "       'cve_ent', 'entidad', 'cve_mun', 'municipio', 'cve_loc', 'localidad',\n",
       "       'ageb', 'manzana', 'telefono', 'correoelec', 'www', 'tipoUniEco',\n",
       "       'latitud', 'longitud', 'fecha_alta'],\n",
       "      dtype='object')"
      ]
     },
     "execution_count": 2,
     "metadata": {},
     "output_type": "execute_result"
    }
   ],
   "source": [
    "#Get the name of the columns \n",
    "nutricionist.columns"
   ]
  },
  {
   "cell_type": "code",
   "execution_count": 3,
   "metadata": {},
   "outputs": [
    {
     "data": {
      "text/plain": [
       "array(['Consultorios de medicina general del sector privado',\n",
       "       'Laboratorios médicos y de diagnóstico del sector privado',\n",
       "       'Agrupaciones de autoayuda para alcohólicos y personas con otras adicciones',\n",
       "       'Servicios de alimentación comunitarios prestados por el sector privado',\n",
       "       'Asilos y otras residencias del sector privado para el cuidado de ancianos',\n",
       "       'Consultorios de psicología del sector privado',\n",
       "       'Consultorios dentales del sector privado',\n",
       "       'Clínicas de consultorios médicos del sector privado',\n",
       "       'Consultorios de nutriólogos y dietistas del sector privado',\n",
       "       'Consultorios de optometría',\n",
       "       'Servicios de enfermería a domicilio',\n",
       "       'Otros servicios de orientación y trabajo social prestados por el sector privado',\n",
       "       'Consultorios de quiropráctica del sector privado',\n",
       "       'Orfanatos y otras residencias de asistencia social del sector privado',\n",
       "       'Orfanatos y otras residencias de asistencia social del sector público',\n",
       "       'Refugios temporales comunitarios del sector privado',\n",
       "       'Servicios de alimentación comunitarios prestados por el sector público',\n",
       "       'Consultorios de medicina general del sector público',\n",
       "       'Servicios de ambulancias',\n",
       "       'Consultorios del sector privado de audiología y de terapia ocupacional, física y del lenguaje',\n",
       "       'Consultorios de medicina especializada del sector privado',\n",
       "       'Servicios de orientación y trabajo social para la niñez y la juventud prestados por el sector público',\n",
       "       'Guarderías del sector privado',\n",
       "       'Servicios de orientación y trabajo social para la niñez y la juventud prestados por el sector privado',\n",
       "       'Servicios de capacitación para el trabajo prestados por el sector privado para personas desempleadas, subempleadas o discapacitadas',\n",
       "       'Otros consultorios del sector privado para el cuidado de la salud',\n",
       "       'Hospitales del sector privado de otras especialidades médicas',\n",
       "       'Guarderías del sector público',\n",
       "       'Centros del sector público dedicados a la atención y cuidado diurno de ancianos y discapacitados',\n",
       "       'Otros servicios de orientación y trabajo social prestados por el sector público',\n",
       "       'Clínicas de consultorios médicos del sector público',\n",
       "       'Refugios temporales comunitarios del sector público',\n",
       "       'Residencias del sector privado para el cuidado de personas con problemas de retardo mental',\n",
       "       'Servicios de capacitación para el trabajo prestados por el sector público para personas desempleadas, subempleadas o discapacitadas',\n",
       "       'Hospitales generales del sector privado',\n",
       "       'Otros centros del sector privado para la atención de pacientes que no requieren hospitalización',\n",
       "       'Servicios de emergencia comunitarios prestados por el sector privado',\n",
       "       'Residencias del sector privado para el cuidado de personas con problemas de trastorno mental y adicción',\n",
       "       'Hospitales generales del sector público',\n",
       "       'Residencias del sector privado con cuidados de enfermeras para enfermos convalecientes, en rehabilitación, incurables y terminales',\n",
       "       'Consultorios del sector público de audiología y de terapia ocupacional, física y del lenguaje',\n",
       "       'Otros consultorios del sector público para el cuidado de la salud',\n",
       "       'Consultorios de medicina especializada del sector público',\n",
       "       'Centros del sector público de atención médica externa para enfermos mentales y adictos',\n",
       "       'Servicios de bancos de órganos, bancos de sangre y otros servicios auxiliares al tratamiento médico prestados por el sector público',\n",
       "       'Laboratorios médicos y de diagnóstico del sector público',\n",
       "       'Consultorios de psicología del sector público',\n",
       "       'Centros de planificación familiar del sector privado',\n",
       "       'Centros del sector privado de atención médica externa para enfermos mentales y adictos',\n",
       "       'Consultorios dentales del sector público',\n",
       "       'Servicios de bancos de órganos, bancos de sangre y otros servicios auxiliares al tratamiento médico prestados por el sector privado',\n",
       "       'Centros del sector privado dedicados a la atención y cuidado diurno de ancianos y discapacitados',\n",
       "       'Hospitales del sector público de otras especialidades médicas',\n",
       "       'Asilos y otras residencias del sector público para el cuidado de ancianos',\n",
       "       'Residencias del sector público para el cuidado de personas con problemas de trastorno mental y adicción',\n",
       "       'Otros centros del sector público para la atención de pacientes que no requieren hospitalización',\n",
       "       'Servicios de emergencia comunitarios prestados por el sector público',\n",
       "       'Residencias del sector público para el cuidado de personas con problemas de retardo mental',\n",
       "       'Hospitales psiquiátricos y para el tratamiento por adicción del sector privado',\n",
       "       'Hospitales psiquiátricos y para el tratamiento por adicción del sector público',\n",
       "       'Residencias del sector público con cuidados de enfermeras para enfermos convalecientes, en rehabilitación, incurables y terminales',\n",
       "       'Consultorios de nutriólogos y dietistas del sector público',\n",
       "       'Centros de planificación familiar del sector público',\n",
       "       'Consultorios de quiropráctica del sector público'], dtype=object)"
      ]
     },
     "execution_count": 3,
     "metadata": {},
     "output_type": "execute_result"
    }
   ],
   "source": [
    "# Get the name of the activities \n",
    "nutricionist['nombre_act'].unique()"
   ]
  },
  {
   "cell_type": "code",
   "execution_count": 4,
   "metadata": {},
   "outputs": [],
   "source": [
    "# Filter to keep only de nutricionists data\n",
    "nutricionist = nutricionist[nutricionist['nombre_act'] == 'Consultorios de nutriólogos y dietistas del sector privado']"
   ]
  },
  {
   "cell_type": "code",
   "execution_count": 5,
   "metadata": {},
   "outputs": [],
   "source": [
    "nutricionist = nutricionist[['id','nom_estab','nom_vial','numero_ext','tipo_asent','nomb_asent','cod_postal','entidad', 'municipio', 'localidad', 'telefono', 'latitud', 'longitud']]"
   ]
  },
  {
   "cell_type": "code",
   "execution_count": 6,
   "metadata": {},
   "outputs": [
    {
     "data": {
      "text/html": [
       "<div>\n",
       "<style scoped>\n",
       "    .dataframe tbody tr th:only-of-type {\n",
       "        vertical-align: middle;\n",
       "    }\n",
       "\n",
       "    .dataframe tbody tr th {\n",
       "        vertical-align: top;\n",
       "    }\n",
       "\n",
       "    .dataframe thead th {\n",
       "        text-align: right;\n",
       "    }\n",
       "</style>\n",
       "<table border=\"1\" class=\"dataframe\">\n",
       "  <thead>\n",
       "    <tr style=\"text-align: right;\">\n",
       "      <th></th>\n",
       "      <th>id</th>\n",
       "      <th>nom_estab</th>\n",
       "      <th>nom_vial</th>\n",
       "      <th>numero_ext</th>\n",
       "      <th>tipo_asent</th>\n",
       "      <th>nomb_asent</th>\n",
       "      <th>cod_postal</th>\n",
       "      <th>entidad</th>\n",
       "      <th>municipio</th>\n",
       "      <th>localidad</th>\n",
       "      <th>telefono</th>\n",
       "      <th>latitud</th>\n",
       "      <th>longitud</th>\n",
       "    </tr>\n",
       "  </thead>\n",
       "  <tbody>\n",
       "    <tr>\n",
       "      <th>12</th>\n",
       "      <td>8624843</td>\n",
       "      <td>ADRIANA IMAGEN Y NUTRICION</td>\n",
       "      <td>LUIS DONALDO COLOSIO</td>\n",
       "      <td>111.0</td>\n",
       "      <td>FRACCIONAMIENTO</td>\n",
       "      <td>JARDINES DE LA CONCEPCION</td>\n",
       "      <td>20120.0</td>\n",
       "      <td>AGUASCALIENTES</td>\n",
       "      <td>Aguascalientes</td>\n",
       "      <td>Aguascalientes</td>\n",
       "      <td>4.49255e+09</td>\n",
       "      <td>21.924182</td>\n",
       "      <td>-102.311750</td>\n",
       "    </tr>\n",
       "    <tr>\n",
       "      <th>65</th>\n",
       "      <td>8250920</td>\n",
       "      <td>ALL EXPRESSIONS</td>\n",
       "      <td>NINGUNO</td>\n",
       "      <td>0.0</td>\n",
       "      <td>COLONIA</td>\n",
       "      <td>MESONEROS</td>\n",
       "      <td>20150.0</td>\n",
       "      <td>AGUASCALIENTES</td>\n",
       "      <td>Aguascalientes</td>\n",
       "      <td>Aguascalientes</td>\n",
       "      <td>4.49103e+09</td>\n",
       "      <td>21.849334</td>\n",
       "      <td>-102.292298</td>\n",
       "    </tr>\n",
       "    <tr>\n",
       "      <th>66</th>\n",
       "      <td>8499379</td>\n",
       "      <td>ALL EXPRESSIONS MEDICAL LASSER</td>\n",
       "      <td>CONVENCION DE 1914 NORTE</td>\n",
       "      <td>2301.0</td>\n",
       "      <td>FRACCIONAMIENTO</td>\n",
       "      <td>SAN CAYETANO</td>\n",
       "      <td>20010.0</td>\n",
       "      <td>AGUASCALIENTES</td>\n",
       "      <td>Aguascalientes</td>\n",
       "      <td>Aguascalientes</td>\n",
       "      <td>NaN</td>\n",
       "      <td>21.895822</td>\n",
       "      <td>-102.310258</td>\n",
       "    </tr>\n",
       "    <tr>\n",
       "      <th>69</th>\n",
       "      <td>6905662</td>\n",
       "      <td>ALONSO CORDOVA NUTRICIONISTA</td>\n",
       "      <td>SIERRA DEL LAUREL</td>\n",
       "      <td>416.0</td>\n",
       "      <td>FRACCIONAMIENTO</td>\n",
       "      <td>BOSQUES DEL PRADO NORTE</td>\n",
       "      <td>20127.0</td>\n",
       "      <td>AGUASCALIENTES</td>\n",
       "      <td>Aguascalientes</td>\n",
       "      <td>Aguascalientes</td>\n",
       "      <td>4.4977e+09</td>\n",
       "      <td>21.916804</td>\n",
       "      <td>-102.304446</td>\n",
       "    </tr>\n",
       "    <tr>\n",
       "      <th>87</th>\n",
       "      <td>8524920</td>\n",
       "      <td>ARANZA RODRIGUEZ NUTRICION</td>\n",
       "      <td>GENERAL EMILIANO ZAPATA</td>\n",
       "      <td>425.0</td>\n",
       "      <td>BARRIO</td>\n",
       "      <td>GUADALUPE</td>\n",
       "      <td>20059.0</td>\n",
       "      <td>AGUASCALIENTES</td>\n",
       "      <td>Aguascalientes</td>\n",
       "      <td>Aguascalientes</td>\n",
       "      <td>4.5e+09</td>\n",
       "      <td>21.882458</td>\n",
       "      <td>-102.304652</td>\n",
       "    </tr>\n",
       "  </tbody>\n",
       "</table>\n",
       "</div>"
      ],
      "text/plain": [
       "         id                       nom_estab                  nom_vial  \\\n",
       "12  8624843      ADRIANA IMAGEN Y NUTRICION      LUIS DONALDO COLOSIO   \n",
       "65  8250920                 ALL EXPRESSIONS                   NINGUNO   \n",
       "66  8499379  ALL EXPRESSIONS MEDICAL LASSER  CONVENCION DE 1914 NORTE   \n",
       "69  6905662    ALONSO CORDOVA NUTRICIONISTA         SIERRA DEL LAUREL   \n",
       "87  8524920      ARANZA RODRIGUEZ NUTRICION   GENERAL EMILIANO ZAPATA   \n",
       "\n",
       "    numero_ext       tipo_asent                 nomb_asent  cod_postal  \\\n",
       "12       111.0  FRACCIONAMIENTO  JARDINES DE LA CONCEPCION     20120.0   \n",
       "65         0.0          COLONIA                  MESONEROS     20150.0   \n",
       "66      2301.0  FRACCIONAMIENTO               SAN CAYETANO     20010.0   \n",
       "69       416.0  FRACCIONAMIENTO    BOSQUES DEL PRADO NORTE     20127.0   \n",
       "87       425.0           BARRIO                  GUADALUPE     20059.0   \n",
       "\n",
       "           entidad       municipio       localidad     telefono    latitud  \\\n",
       "12  AGUASCALIENTES  Aguascalientes  Aguascalientes  4.49255e+09  21.924182   \n",
       "65  AGUASCALIENTES  Aguascalientes  Aguascalientes  4.49103e+09  21.849334   \n",
       "66  AGUASCALIENTES  Aguascalientes  Aguascalientes          NaN  21.895822   \n",
       "69  AGUASCALIENTES  Aguascalientes  Aguascalientes   4.4977e+09  21.916804   \n",
       "87  AGUASCALIENTES  Aguascalientes  Aguascalientes      4.5e+09  21.882458   \n",
       "\n",
       "      longitud  \n",
       "12 -102.311750  \n",
       "65 -102.292298  \n",
       "66 -102.310258  \n",
       "69 -102.304446  \n",
       "87 -102.304652  "
      ]
     },
     "execution_count": 6,
     "metadata": {},
     "output_type": "execute_result"
    }
   ],
   "source": [
    "nutricionist.head(5)"
   ]
  },
  {
   "cell_type": "code",
   "execution_count": 7,
   "metadata": {},
   "outputs": [
    {
     "data": {
      "text/plain": [
       "4053"
      ]
     },
     "execution_count": 7,
     "metadata": {},
     "output_type": "execute_result"
    }
   ],
   "source": [
    "len(nutricionist)"
   ]
  },
  {
   "cell_type": "code",
   "execution_count": 8,
   "metadata": {},
   "outputs": [],
   "source": [
    "# Filter to delete an entry that contains wrong information\n",
    "nutricionist = nutricionist[nutricionist['latitud'] != 10.25839375]"
   ]
  },
  {
   "cell_type": "code",
   "execution_count": 9,
   "metadata": {},
   "outputs": [
    {
     "data": {
      "text/plain": [
       "4048"
      ]
     },
     "execution_count": 9,
     "metadata": {},
     "output_type": "execute_result"
    }
   ],
   "source": [
    "len(nutricionist)"
   ]
  },
  {
   "cell_type": "code",
   "execution_count": 10,
   "metadata": {},
   "outputs": [],
   "source": [
    "# Export clean data frame to csv\n",
    "# nutricionist.to_csv(\"static/data/nutricionist_directory.csv\", index = False)"
   ]
  }
 ],
 "metadata": {
  "kernelspec": {
   "display_name": "Python [conda env:pythonData]",
   "language": "python",
   "name": "conda-env-pythonData-py"
  },
  "language_info": {
   "codemirror_mode": {
    "name": "ipython",
    "version": 3
   },
   "file_extension": ".py",
   "mimetype": "text/x-python",
   "name": "python",
   "nbconvert_exporter": "python",
   "pygments_lexer": "ipython3",
   "version": "3.6.10"
  }
 },
 "nbformat": 4,
 "nbformat_minor": 4
}
